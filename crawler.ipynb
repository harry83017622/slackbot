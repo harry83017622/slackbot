{
 "cells": [
  {
   "cell_type": "code",
   "execution_count": 137,
   "metadata": {},
   "outputs": [
    {
     "name": "stdout",
     "output_type": "stream",
     "text": [
      "434\n"
     ]
    }
   ],
   "source": [
    "import requests\n",
    "import json\n",
    "from google.cloud import storage\n",
    "\n",
    "database_id=\"\"\n",
    "secret_key=\"\"\n",
    "slack_token=\"\"\n",
    "\n",
    "def upload_gcloud_bucket(data_results):\n",
    "    bucket_name = 'leetcode-notion-db'\n",
    "    bucket = storage.Client().get_bucket(bucket_name)\n",
    "\n",
    "    blob = bucket.blob('past_record.json')\n",
    "\n",
    "    blob.upload_from_string(data=json.dumps(data_results,\n",
    "                            ensure_ascii=False), content_type='application/json')\n",
    "    return\n",
    "\n",
    "def push_results_to_map(response,mapper):\n",
    "    \n",
    "    for num in response.json()[\"results\"]:\n",
    "        if \"題號\" not in num[\"properties\"].keys():\n",
    "            print(num[\"properties\"])\n",
    "            continue\n",
    "        if num[\"properties\"][\"Person\"][\"people\"]:\n",
    "\n",
    "            question_num = num[\"properties\"][\"題號\"][\"number\"]\n",
    "            authors_json = num[\"properties\"][\"Person\"][\"people\"]\n",
    "            if mapper.get(question_num):\n",
    "                continue\n",
    "            authors_list = []\n",
    "            for author in authors_json:\n",
    "                if \"name\" not in author.keys():\n",
    "                    continue\n",
    "                authors_list.append(author[\"name\"])\n",
    "                if question_num in mapper.keys():\n",
    "                    print(question_num)\n",
    "            mapper[question_num] = authors_list\n",
    "\n",
    "    return mapper\n",
    "    \n",
    "def crawl_notion_sorted():\n",
    "    question_authors_map = {}\n",
    "    header = {\"Authorization\": secret_key,\"Notion-Version\": \"2021-05-13\"}\n",
    "    query = {\n",
    "                \"sorts\": [{\n",
    "                    \"property\": \"題號\",\n",
    "                    \"direction\": \"ascending\"\n",
    "                }]\n",
    "            }\n",
    "    response = requests.post(\n",
    "            \"https://api.notion.com/v1/databases/\" + database_id + \"/query\", headers=header, json=query)\n",
    "    \n",
    "    push_results_to_map(response,question_authors_map)\n",
    "    start_cursor = response.json()[\"next_cursor\"]\n",
    "    while start_cursor:\n",
    "        query[\"start_cursor\"]=start_cursor\n",
    "        response = requests.post(\n",
    "            \"https://api.notion.com/v1/databases/\" + database_id + \"/query\", headers=header, json=query)\n",
    "        push_results_to_map(response,question_authors_map)\n",
    "        start_cursor = response.json()[\"next_cursor\"] \n",
    "        \n",
    "    return question_authors_map\n",
    "    \n",
    "question_authors_map = crawl_notion_sorted()\n",
    "\n",
    "# upload_gcloud_bucket(question_authors_map)\n",
    "# with open(\"past_record.json\",\"w\") as fin:\n",
    "#     json.dump(question_authors_map,fin)\n",
    "\n",
    "print(len(question_authors_map))"
   ]
  }
 ],
 "metadata": {
  "interpreter": {
   "hash": "aee8b7b246df8f9039afb4144a1f6fd8d2ca17a180786b69acc140d282b71a49"
  },
  "kernelspec": {
   "display_name": "Python 3.9.8 64-bit",
   "language": "python",
   "name": "python3"
  },
  "language_info": {
   "codemirror_mode": {
    "name": "ipython",
    "version": 3
   },
   "file_extension": ".py",
   "mimetype": "text/x-python",
   "name": "python",
   "nbconvert_exporter": "python",
   "pygments_lexer": "ipython3",
   "version": "3.6.13"
  },
  "orig_nbformat": 4
 },
 "nbformat": 4,
 "nbformat_minor": 2
}
